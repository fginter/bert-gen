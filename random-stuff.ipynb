{
 "cells": [
  {
   "cell_type": "code",
   "execution_count": 2,
   "metadata": {},
   "outputs": [
    {
     "name": "stderr",
     "output_type": "stream",
     "text": [
      "To use data.metrics please install scikit-learn. See https://scikit-learn.org/stable/index.html\n"
     ]
    }
   ],
   "source": [
    "import transformers"
   ]
  },
  {
   "cell_type": "code",
   "execution_count": 3,
   "metadata": {},
   "outputs": [
    {
     "data": {
      "text/plain": [
       "True"
      ]
     },
     "execution_count": 3,
     "metadata": {},
     "output_type": "execute_result"
    }
   ],
   "source": [
    "import torch\n",
    "torch.cuda.is_available()"
   ]
  },
  {
   "cell_type": "code",
   "execution_count": 4,
   "metadata": {},
   "outputs": [],
   "source": [
    "transformers.BERT_PRETRAINED_MODEL_ARCHIVE_MAP[\"bert-base-finnish-cased\"]=\"http://dl.turkunlp.org/finbert/torch-transformers/bert-base-finnish-cased/pytorch_model.bin\"\n",
    "transformers.BERT_PRETRAINED_CONFIG_ARCHIVE_MAP[\"bert-base-finnish-cased\"]=\"http://dl.turkunlp.org/finbert/torch-transformers/bert-base-finnish-cased/config.json\"\n",
    "transformers.tokenization_bert.PRETRAINED_VOCAB_FILES_MAP[\"vocab_file\"][\"bert-base-finnish-cased\"]=\"http://dl.turkunlp.org/finbert/torch-transformers/bert-base-finnish-cased/vocab.txt\"\n",
    "transformers.tokenization_bert.PRETRAINED_POSITIONAL_EMBEDDINGS_SIZES[\"bert-base-finnish-cased\"]=512\n",
    "transformers.tokenization_bert.PRETRAINED_INIT_CONFIGURATION[\"bert-base-finnish-cased\"]={'do_lower_case': False}\n"
   ]
  },
  {
   "cell_type": "code",
   "execution_count": 4,
   "metadata": {},
   "outputs": [],
   "source": [
    "model=transformers.BertForMaskedLM.from_pretrained(\"bert-base-finnish-cased\")"
   ]
  },
  {
   "cell_type": "code",
   "execution_count": 5,
   "metadata": {},
   "outputs": [],
   "source": [
    "model=model.cuda()"
   ]
  },
  {
   "cell_type": "code",
   "execution_count": 5,
   "metadata": {},
   "outputs": [],
   "source": [
    "tokenizer = transformers.BertTokenizer.from_pretrained(\"bert-base-finnish-cased\")"
   ]
  },
  {
   "cell_type": "code",
   "execution_count": null,
   "metadata": {},
   "outputs": [],
   "source": []
  },
  {
   "cell_type": "code",
   "execution_count": 7,
   "metadata": {},
   "outputs": [
    {
     "data": {
      "text/plain": [
       "[['Minulla', 'on', 'koira', 'joka', 'on', 'ruskea', 'ja', 'vihainen']]"
      ]
     },
     "execution_count": 7,
     "metadata": {},
     "output_type": "execute_result"
    }
   ],
   "source": [
    "CLS,SEP,MASK=tokenizer.convert_tokens_to_ids([\"[CLS]\",\"[SEP]\",\"[MASK]\"])\n",
    "texts=[\"Minulla on koira joka on ruskea ja vihainen\"]\n",
    "tokenized_texts=[tokenizer.tokenize(t) for t in texts]\n",
    "tokenized_texts"
   ]
  },
  {
   "cell_type": "code",
   "execution_count": null,
   "metadata": {},
   "outputs": [],
   "source": []
  },
  {
   "cell_type": "code",
   "execution_count": 8,
   "metadata": {},
   "outputs": [],
   "source": [
    "texts_ids=[torch.tensor([CLS]+tokenizer.convert_tokens_to_ids(tt)) for tt in tokenized_texts]\n",
    "texts_ids=torch.nn.utils.rnn.pad_sequence(texts_ids,batch_first=True,padding_value=MASK)\n",
    "texts_ids=texts_ids.cuda()\n",
    "resp=model(texts_ids)"
   ]
  },
  {
   "cell_type": "code",
   "execution_count": 9,
   "metadata": {},
   "outputs": [
    {
     "name": "stdout",
     "output_type": "stream",
     "text": [
      "torch.Size([1, 9])\n",
      "torch.Size([1, 9, 50105])\n"
     ]
    }
   ],
   "source": [
    "print(texts_ids.shape)\n",
    "print(resp[0].shape)"
   ]
  },
  {
   "cell_type": "code",
   "execution_count": 10,
   "metadata": {},
   "outputs": [
    {
     "ename": "NameError",
     "evalue": "name 'new_texts' is not defined",
     "output_type": "error",
     "traceback": [
      "\u001b[0;31m---------------------------------------------------------------------------\u001b[0m",
      "\u001b[0;31mNameError\u001b[0m                                 Traceback (most recent call last)",
      "\u001b[0;32m<ipython-input-10-d841d6765474>\u001b[0m in \u001b[0;36m<module>\u001b[0;34m\u001b[0m\n\u001b[0;32m----> 1\u001b[0;31m \u001b[0mnew_texts\u001b[0m\u001b[0;34m\u001b[0m\u001b[0;34m\u001b[0m\u001b[0m\n\u001b[0m",
      "\u001b[0;31mNameError\u001b[0m: name 'new_texts' is not defined"
     ]
    }
   ],
   "source": [
    "\n",
    "new_texts"
   ]
  },
  {
   "cell_type": "code",
   "execution_count": null,
   "metadata": {},
   "outputs": [],
   "source": [
    "min_lead_in=3\n",
    "s_len=len(texts_ids[0])\n",
    "to_predict=s_len-min_lead_in-1\n",
    "assert(to_predict)>0\n",
    "new_texts=texts_ids[0].unsqueeze(0).expand((to_predict,-1))\n",
    "lower_triangle=torch.tril(torch.ones((to_predict,to_predict+1)))\n",
    "mask=torch.cat((torch.ones((to_predict,min_lead_in)),lower_triangle),-1)\n",
    "mask=mask.cuda()\n",
    "print(mask)"
   ]
  },
  {
   "cell_type": "code",
   "execution_count": null,
   "metadata": {},
   "outputs": [],
   "source": [
    "out=model(input_ids=new_texts,attention_mask=mask)\n",
    "out"
   ]
  },
  {
   "cell_type": "code",
   "execution_count": null,
   "metadata": {},
   "outputs": [],
   "source": [
    "out=model(input_ids=new_texts,attention_mask=mask,masked_lm_labels=new_texts.reshape((-1,)))\n",
    "loss,pred=out\n",
    "loss\n",
    "#out_reshaped=out[0].view(-1,model.config.vocab_size)\n",
    "#gold=new_texts.reshape((-1,))\n",
    "#torch.nn.CrossEntropyLoss()(out_reshaped,gold)"
   ]
  },
  {
   "cell_type": "code",
   "execution_count": null,
   "metadata": {},
   "outputs": [],
   "source": [
    "print(\"texts\",new_texts)\n",
    "filter=torch.cat((torch.zeros((5,4),dtype=torch.long),torch.eye(5,dtype=torch.long)),-1).cuda()\n",
    "print(\"filter\",filter)\n",
    "gold=filter*(new_texts+1)-1\n",
    "print(\"gold\",gold)"
   ]
  },
  {
   "cell_type": "code",
   "execution_count": null,
   "metadata": {},
   "outputs": [],
   "source": [
    "gold=filter*(new_texts+1)-1\n",
    "out=model(input_ids=new_texts,attention_mask=mask,masked_lm_labels=gold)\n",
    "loss,pred=out\n",
    "loss"
   ]
  }
 ],
 "metadata": {
  "kernelspec": {
   "display_name": "venv-transformers",
   "language": "python",
   "name": "venv-transformers"
  },
  "language_info": {
   "codemirror_mode": {
    "name": "ipython",
    "version": 3
   },
   "file_extension": ".py",
   "mimetype": "text/x-python",
   "name": "python",
   "nbconvert_exporter": "python",
   "pygments_lexer": "ipython3",
   "version": "3.5.2"
  }
 },
 "nbformat": 4,
 "nbformat_minor": 2
}
