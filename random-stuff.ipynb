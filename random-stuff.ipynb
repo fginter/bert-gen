{
 "cells": [
  {
   "cell_type": "code",
   "execution_count": 1,
   "metadata": {},
   "outputs": [
    {
     "name": "stderr",
     "output_type": "stream",
     "text": [
      "To use data.metrics please install scikit-learn. See https://scikit-learn.org/stable/index.html\n"
     ]
    }
   ],
   "source": [
    "import transformers"
   ]
  },
  {
   "cell_type": "code",
   "execution_count": 2,
   "metadata": {},
   "outputs": [
    {
     "data": {
      "text/plain": [
       "True"
      ]
     },
     "execution_count": 2,
     "metadata": {},
     "output_type": "execute_result"
    }
   ],
   "source": [
    "import torch\n",
    "torch.cuda.is_available()"
   ]
  },
  {
   "cell_type": "code",
   "execution_count": 3,
   "metadata": {},
   "outputs": [],
   "source": [
    "transformers.BERT_PRETRAINED_MODEL_ARCHIVE_MAP[\"bert-base-finnish-cased\"]=\"http://dl.turkunlp.org/finbert/torch-transformers/bert-base-finnish-cased/pytorch_model.bin\"\n",
    "transformers.BERT_PRETRAINED_CONFIG_ARCHIVE_MAP[\"bert-base-finnish-cased\"]=\"http://dl.turkunlp.org/finbert/torch-transformers/bert-base-finnish-cased/config.json\"\n",
    "transformers.tokenization_bert.PRETRAINED_VOCAB_FILES_MAP[\"vocab_file\"][\"bert-base-finnish-cased\"]=\"http://dl.turkunlp.org/finbert/torch-transformers/bert-base-finnish-cased/vocab.txt\"\n",
    "transformers.tokenization_bert.PRETRAINED_POSITIONAL_EMBEDDINGS_SIZES[\"bert-base-finnish-cased\"]=512\n",
    "transformers.tokenization_bert.PRETRAINED_INIT_CONFIGURATION[\"bert-base-finnish-cased\"]={'do_lower_case': False}\n"
   ]
  },
  {
   "cell_type": "code",
   "execution_count": 4,
   "metadata": {},
   "outputs": [],
   "source": [
    "model=transformers.BertForMaskedLM.from_pretrained(\"bert-base-finnish-cased\")"
   ]
  },
  {
   "cell_type": "code",
   "execution_count": 5,
   "metadata": {},
   "outputs": [],
   "source": [
    "model=model.cuda()"
   ]
  },
  {
   "cell_type": "code",
   "execution_count": 6,
   "metadata": {},
   "outputs": [],
   "source": [
    "tokenizer = transformers.BertTokenizer.from_pretrained(\"bert-base-finnish-cased\")"
   ]
  },
  {
   "cell_type": "code",
   "execution_count": 7,
   "metadata": {},
   "outputs": [
    {
     "data": {
      "text/plain": [
       "[['Minulla', 'on', 'koira', '.'],\n",
       " ['Se', 'koira', 'on', 'ruskea', '.'],\n",
       " ['Mai', '##st', '##ui', 'myös', 'oikein', 'pahalta', '.']]"
      ]
     },
     "execution_count": 7,
     "metadata": {},
     "output_type": "execute_result"
    }
   ],
   "source": [
    "CLS,SEP,MASK=tokenizer.convert_tokens_to_ids([\"[CLS]\",\"[SEP]\",\"[MASK]\"])\n",
    "texts=[\"Minulla on koira.\",\"Se koira on ruskea.\",\"Maistui myös oikein pahalta.\"]\n",
    "tokenized_texts=[tokenizer.tokenize(t) for t in texts]\n",
    "tokenized_texts"
   ]
  },
  {
   "cell_type": "code",
   "execution_count": null,
   "metadata": {},
   "outputs": [],
   "source": []
  },
  {
   "cell_type": "code",
   "execution_count": 8,
   "metadata": {},
   "outputs": [],
   "source": [
    "texts_ids=[torch.tensor([CLS]+tokenizer.convert_tokens_to_ids(tt)+[SEP]) for tt in tokenized_texts]\n",
    "texts_ids=torch.nn.utils.rnn.pad_sequence(texts_ids,batch_first=True,padding_value=MASK)\n",
    "texts_ids=texts_ids.cuda()\n",
    "resp=model(texts_ids)"
   ]
  },
  {
   "cell_type": "code",
   "execution_count": 9,
   "metadata": {},
   "outputs": [
    {
     "name": "stdout",
     "output_type": "stream",
     "text": [
      "torch.Size([3, 9])\n",
      "torch.Size([3, 9, 50105])\n"
     ]
    }
   ],
   "source": [
    "print(texts_ids.shape)\n",
    "print(resp[0].shape)"
   ]
  },
  {
   "cell_type": "code",
   "execution_count": null,
   "metadata": {},
   "outputs": [],
   "source": []
  }
 ],
 "metadata": {
  "kernelspec": {
   "display_name": "venv-transformers-4",
   "language": "python",
   "name": "venv-transformers-4"
  },
  "language_info": {
   "codemirror_mode": {
    "name": "ipython",
    "version": 3
   },
   "file_extension": ".py",
   "mimetype": "text/x-python",
   "name": "python",
   "nbconvert_exporter": "python",
   "pygments_lexer": "ipython3",
   "version": "3.6.8"
  }
 },
 "nbformat": 4,
 "nbformat_minor": 2
}
